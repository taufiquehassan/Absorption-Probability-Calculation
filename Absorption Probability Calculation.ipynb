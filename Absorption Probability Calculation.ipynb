{
 "cells": [
  {
   "cell_type": "markdown",
   "metadata": {},
   "source": [
    "# Calculating the absorption probability for \n",
    "# UCNs by the Aluminum window for each pass"
   ]
  },
  {
   "cell_type": "code",
   "execution_count": 3,
   "metadata": {},
   "outputs": [],
   "source": [
    "#Importing the required libraries\n",
    "import numpy as np\n",
    "import pandas as pd\n",
    "import matplotlib\n",
    "import math\n",
    "import matplotlib.pyplot as plt"
   ]
  },
  {
   "cell_type": "markdown",
   "metadata": {},
   "source": [
    "## The equation is:\n",
    "\\begin{align}\n",
    "\\ Absorption\\_probability = 1 - exp({-\\frac{density}{atomic\\_weight}\\times AvogadroNumber \\times ThermalAbsorptionXS \\times  thickness \\times \\frac{v\\_therm}{Velocity}}) \\\n",
    "\\end{align}"
   ]
  },
  {
   "cell_type": "code",
   "execution_count": 5,
   "metadata": {},
   "outputs": [
    {
     "name": "stdout",
     "output_type": "stream",
     "text": [
      "0.00762 in cm\n"
     ]
    }
   ],
   "source": [
    "#convert inch to cm\n",
    "def convert_in_cm(x):\n",
    "  y = x*2.54\n",
    "  print(y, \"in cm\")\n",
    "\n",
    "convert_in_cm(.003)"
   ]
  },
  {
   "cell_type": "code",
   "execution_count": 6,
   "metadata": {},
   "outputs": [
    {
     "name": "stdout",
     "output_type": "stream",
     "text": [
      "0.27047705 in barns\n"
     ]
    }
   ],
   "source": [
    "#calculation of absorption crosssection\n",
    "Al = ((95.85 + 98.56)/2)*0.01*0.231\n",
    "Mg = ((00.80 + 01.20)/2)*0.01*0.063\n",
    "Si = ((00.40 + 00.80)/2)*0.01*0.171\n",
    "Fe = ((00.00 + 00.70)/2)*0.01*2.560\n",
    "Cu = ((00.15 + 00.40)/2)*0.01*3.780\n",
    "Cr = ((00.04 + 00.35)/2)*0.01*3.050\n",
    "Zn = ((00.00 + 00.25)/2)*0.01*1.110\n",
    "Ti = ((00.00 + 00.25)/2)*0.01*6.090\n",
    "Mn = ((00.00 + 00.15)/2)*0.01*13.30\n",
    "\n",
    "Total_Crosssection = Al + Mg + Si + Fe + Cu + Cr + Zn + Ti + Mn\n",
    "\n",
    "print(Total_Crosssection, \"in barns\")"
   ]
  },
  {
   "cell_type": "markdown",
   "metadata": {},
   "source": [
    "# Calculation for thickness = 0.005 in and abs xs = 0.2705 barns"
   ]
  },
  {
   "cell_type": "code",
   "execution_count": 7,
   "metadata": {},
   "outputs": [],
   "source": [
    "#defining the variables\n",
    "density = 2.7         # density of aluminum is      = 2.7 gm/cm^3\n",
    "atomic_weight = 26.9  # atomic weight of Aluminum   = 26.9 atom/ mol\n",
    "thickness = 0.0127   # thickness of the window     = 0.005 in = 0.0127 cm\n",
    "avagadro  = 6.023e23  # avagadro number\n",
    "v_therm = 2200        # velocity of thermal neutron = 2200 m/s\n",
    "thermal_abs_xs = 0.2705e-24  #total absorption crosssection in cm^2 unit"
   ]
  },
  {
   "cell_type": "code",
   "execution_count": 8,
   "metadata": {},
   "outputs": [
    {
     "data": {
      "image/png": "[encoded data removed]",
      "text/plain": [
       "<Figure size 432x288 with 1 Axes>"
      ]
     },
     "metadata": {
      "needs_background": "light"
     },
     "output_type": "display_data"
    }
   ],
   "source": [
    "initial_velocity = 5  # velocity in m/s\n",
    "final_velocity = 15   # velocity in m/s\n",
    "increment_velocity = 0.001\n",
    "\n",
    "def my_range(start, end, step):\n",
    "    while start <= end:\n",
    "        yield start\n",
    "        start += step\n",
    "\n",
    "df = pd.DataFrame({'velocity': [], 'absorption_probability': []})\n",
    "\n",
    "\n",
    "\n",
    "for i in my_range(initial_velocity, final_velocity, increment_velocity):\n",
    "    j = 1 - np.exp(-((density/atomic_weight)*avagadro*thermal_abs_xs*thickness*(v_therm/i)))\n",
    "    df = df.append({'velocity': i, 'absorption_probability': j}, ignore_index=True)\n",
    "    \n",
    "#print(df)\n",
    "\n",
    "df.plot(kind='line',x='velocity',y='absorption_probability',color='red')\n",
    "plt.show()\n",
    "    "
   ]
  },
  {
   "cell_type": "markdown",
   "metadata": {},
   "source": [
    "# Comparison for thickness = 0.003 in and 0.005 in and abs xs = 0.231 barns and 0.2705 barns"
   ]
  },
  {
   "cell_type": "code",
   "execution_count": 9,
   "metadata": {},
   "outputs": [],
   "source": [
    "#defining the variables\n",
    "density = 2.7         # density of aluminum is      = 2.7 gm/cm^3\n",
    "atomic_weight = 26.9  # atomic weight of Aluminum   = 26.9 atom/ mol\n",
    "thickness = 0.0127   # thickness of the window     = 0.005 in = 0.0127 cm\n",
    "thickness_old = 0.00762   # thickness of the window     = 0.003 in = 0.00762 cm\n",
    "avagadro  = 6.023e23  # avagadro number\n",
    "v_therm = 2200        # velocity of thermal neutron = 2200 m/s\n",
    "thermal_abs_xs = 0.2705e-24  #total absorption crosssection in cm^2 unit\n",
    "thermal_abs_xs_old = 0.231e-24  #total absorption crosssection in cm^2 unit"
   ]
  },
  {
   "cell_type": "code",
   "execution_count": 10,
   "metadata": {},
   "outputs": [
    {
     "name": "stdout",
     "output_type": "stream",
     "text": [
      "Calculation Done, DF created\n"
     ]
    }
   ],
   "source": [
    "initial_velocity = 5  # velocity in m/s\n",
    "final_velocity = 15   # velocity in m/s\n",
    "increment_velocity = 0.001\n",
    "\n",
    "def my_range(start, end, step):\n",
    "    while start <= end:\n",
    "        yield start\n",
    "        start += step\n",
    "\n",
    "df = pd.DataFrame({'velocity': [], 'absorption_probability': [], 'absorption_probability_old': []})\n",
    "\n",
    "\n",
    "\n",
    "for i in my_range(initial_velocity, final_velocity, increment_velocity):\n",
    "    j = 1 - np.exp(-((density/atomic_weight)*avagadro*thermal_abs_xs*thickness*(v_therm/i)))\n",
    "    k = 1 - np.exp(-((density/atomic_weight)*avagadro*thermal_abs_xs_old*thickness_old*(v_therm/i)))\n",
    "    df = df.append({'velocity': i, 'absorption_probability': j, 'absorption_probability_old': k}, ignore_index=True)\n",
    "    \n",
    "print(\"Calculation Done, DF created\")\n",
    "    "
   ]
  },
  {
   "cell_type": "code",
   "execution_count": 117,
   "metadata": {},
   "outputs": [
    {
     "data": {
      "image/png": "[encoded data removed]",
      "text/plain": [
       "<Figure size 432x288 with 1 Axes>"
      ]
     },
     "metadata": {
      "needs_background": "light"
     },
     "output_type": "display_data"
    }
   ],
   "source": [
    "#Plotting the data\n",
    "ax = plt.gca()\n",
    "df.plot(kind='line',x='velocity',y='absorption_probability',color='red', ax=ax)\n",
    "df.plot(kind='line',x='velocity',y='absorption_probability_old',color='blue', ax=ax)\n",
    "ax.axvline(7.6, color='green', linestyle='--')\n",
    "ax.axvline(9.5, color='green', linestyle='--')\n",
    "ax.set_xlabel(\"UCN Velocity (ms$^{-1}$)\")\n",
    "ax.set_ylabel(\"Absorption Probability\")\n",
    "plt.show()"
   ]
  },
  {
   "cell_type": "markdown",
   "metadata": {},
   "source": [
    "5T field gives 300 neV additional kinetic energy to high field seekers. So neutrons that have 0 neV kinetic energy outside the field move at 7.3 m/s in the field and neutrons that have 170 neV kinetic energy outside move at 9.1 m/s."
   ]
  },
  {
   "cell_type": "markdown",
   "metadata": {},
   "source": [
    "neutron velocity = 1.38e6 * Sqrt(E)\n",
    "\n",
    "Where velocity is in cm/s and E is in eV"
   ]
  },
  {
   "cell_type": "code",
   "execution_count": 118,
   "metadata": {},
   "outputs": [
    {
     "name": "stdout",
     "output_type": "stream",
     "text": [
      "The UCN velocity range is = 7.6 m/s to 9.5 m/s\n"
     ]
    }
   ],
   "source": [
    "E1 = 300e-9   #neutron energy in eV\n",
    "V1 = 1.38e6 * math.sqrt(E1)  #From E=(1/2)*(1.675×10−27 kg)*v^2 and 1eV=1.6×10−19 J\n",
    "\n",
    "E2 = 470e-9   #neutron energy in eV\n",
    "V2 = 1.38e6 * math.sqrt(E2)\n",
    "\n",
    "print(\"The UCN velocity range is =\", round(V1/100,1), \"m/s to\", round(V2/100,1), \"m/s\")"
   ]
  },
  {
   "cell_type": "code",
   "execution_count": null,
   "metadata": {},
   "outputs": [],
   "source": [
    "\n"
   ]
  },
  {
   "cell_type": "code",
   "execution_count": null,
   "metadata": {},
   "outputs": [],
   "source": []
  },
  {
   "cell_type": "code",
   "execution_count": null,
   "metadata": {},
   "outputs": [],
   "source": []
  }
 ],
 "metadata": {
  "kernelspec": {
   "display_name": "Python 3",
   "language": "python",
   "name": "python3"
  },
  "language_info": {
   "codemirror_mode": {
    "name": "ipython",
    "version": 3
   },
   "file_extension": ".py",
   "mimetype": "text/x-python",
   "name": "python",
   "nbconvert_exporter": "python",
   "pygments_lexer": "ipython3",
   "version": "3.7.0"
  }
 },
 "nbformat": 4,
 "nbformat_minor": 2
}
